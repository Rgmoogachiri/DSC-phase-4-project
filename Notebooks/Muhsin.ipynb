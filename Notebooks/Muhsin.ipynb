{
 "cells": [
  {
   "cell_type": "markdown",
   "id": "e7210c59",
   "metadata": {},
   "source": [
    "### Introduction\n",
    "\n",
    "In the rapidly evolving digital landscape, the entertainment industry, especially online streaming platforms, faces the challenge of enhancing user engagement and satisfaction. One of the pivotal strategies to achieve this is through personalized content delivery, where movie recommendation systems play a crucial role. These systems not only improve user experience by suggesting relevant content but also contribute to increased platform usage and customer loyalty.\n",
    "\n",
    "The project at hand aims to develop a sophisticated movie recommendation system utilizing the MovieLens dataset. This system is designed to recommend movies to users based on their historical ratings, leveraging collaborative filtering techniques. By predicting user preferences with high accuracy, the system addresses the critical challenge of personalizing content in a crowded digital space.\n",
    "\n",
    "#### Stakeholders\n",
    "\n",
    "The primary stakeholders of this project include:\n",
    "\n",
    "Online Streaming Platforms: Companies like Netflix, Amazon Prime Video, and Hulu can integrate this recommendation system to enhance user experience, increase viewer engagement, and reduce churn rates by providing tailored movie suggestions.\n",
    "Users: Individual users of streaming services stand to benefit from a more personalized viewing experience, leading to improved satisfaction and discovery of new content aligned with their tastes.\n",
    "Content Creators and Distributors: By promoting movies that are likely to be well-received, the system can help content creators and distributors reach their target audience more effectively, thereby increasing viewership and revenue from underexposed content.\n",
    "Real-world Problem\n",
    "\n",
    "The real-world problem addressed by this project is the challenge of content discovery in an age where users are overwhelmed by choices. In the vast sea of available movies and shows, it becomes increasingly difficult for users to find content that resonates with their preferences. This challenge, faced by online streaming platforms and their users, leads to decision fatigue, decreased user satisfaction, and potential loss of subscription revenue.\n",
    "\n",
    "#### Project's Value\n",
    "\n",
    "This project aims to solve this problem by developing a recommendation system that accurately predicts and suggests movies to users based on their preferences. By doing so, it significantly enhances the user experience, making content discovery seamless and personalized. For streaming platforms, this translates to increased user engagement, higher satisfaction levels, and reduced churn, ultimately contributing to their competitive edge and profitability.\n",
    "\n",
    "### Conclusion\n",
    "\n",
    "In conclusion, the movie recommendation system project addresses a significant real-world problem of content discovery in the digital entertainment industry. It offers substantial value to various stakeholders, including streaming platforms, users, and content creators, by providing a solution that enhances user engagement through personalized recommendations. The implications of this project extend beyond mere algorithmic sophistication, touching on the broader goal of making digital entertainment more accessible, enjoyable, and aligned with individual user preferences.\n"
   ]
  },
  {
   "cell_type": "markdown",
   "id": "dd1704cf",
   "metadata": {},
   "source": [
    "### Data Understanding\n",
    "\n",
    "#### Data Sources\n",
    "\n",
    "The dataset utilized in this project is the MovieLens dataset, curated by the GroupLens Research Lab at the University of Minnesota. This dataset is widely recognized in the machine learning community for building and testing recommendation systems. It comprises several files, but for the scope of this project, we focus on:\n",
    "\n",
    "movies.csv: Contains movie information, including movie IDs, titles, and genres.\n",
    "\n",
    "ratings.csv: Consists of user ratings for movies, crucial for collaborative filtering.\n",
    "\n",
    "tags.csv: Includes user-generated tags for movies, which can be used for content-based filtering or enhancing collaborative filtering.\n",
    "\n",
    "links.csv: Provides links to movie details on external sites like IMDb, which could be useful for gathering additional content information or metadata.\n",
    "\n",
    "#### Dataset Size and Properties\n",
    "\n",
    "The movies.csv file contains details for 9,742 movies, including their genres, which helps in content-based filtering and understanding user preferences.\n",
    "The ratings.csv file is central to our recommendation system, comprising over 100,000 ratings from users, essential for understanding user preferences and implementing collaborative filtering.\n",
    "Descriptive statistics for these datasets will provide insights into user rating behavior and movie popularity, guiding the model development process.\n",
    "Relevance for the Project\n",
    "\n",
    "The combination of ratings, movie information, and user-generated tags makes the MovieLens dataset particularly suitable for this project. The rich set of user ratings allows for the implementation of collaborative filtering techniques, which form the core of our recommendation system. Moreover, movie genres and tags offer an avenue for content-based filtering or hybrid models, enhancing the system's capability to make relevant recommendations, especially for new users or movies with fewer ratings (addressing the cold start problem).\n",
    "\n",
    "#### Justification of Feature Inclusion\n",
    "\n",
    "Movie Titles and Genres: Essential for identifying the content to recommend and for content-based filtering approaches.\n",
    "User Ratings: The backbone of collaborative filtering, allowing the system to find and recommend movies liked by similar users.\n",
    "Tags: Provide deeper insight into content, potentially improving recommendation quality by aligning suggestions with user's specific interests.\n",
    "\n",
    "\n",
    "#### Limitations of the Data\n",
    "\n",
    "Cold Start Problem:\n",
    "New movies or users with few ratings pose a challenge, as there's limited data to base recommendations on.\n",
    "\n",
    "\n",
    "Bias in User Ratings: \n",
    "\n",
    "Ratings are subjective and can be biased, affecting the system's ability to accurately predict preferences.\n",
    "\n",
    "\n",
    "Sparsity of the Ratings Matrix:\n",
    "\n",
    "With a large number of movies and users but relatively fewer ratings, the ratings matrix is sparse, which can complicate the modeling process.\n",
    "\n",
    "#### Conclusion\n",
    "\n",
    "The MovieLens dataset's comprehensive nature, combining user ratings, movie information, and tags, makes it exceptionally suited for developing a personalized movie recommendation system. Its widespread use in academic and research settings further attests to its reliability and relevance for addressing the real-world problem of improving content discovery and user engagement on streaming platforms. However, awareness of its limitations is crucial for developing robust and effective recommendation models.\n"
   ]
  },
  {
   "cell_type": "markdown",
   "id": "a014027e",
   "metadata": {},
   "source": [
    "### Data Preparation"
   ]
  },
  {
   "cell_type": "code",
   "execution_count": 1,
   "id": "0cb1cd1b",
   "metadata": {},
   "outputs": [],
   "source": [
    "import warnings\n",
    "warnings.filterwarnings('ignore')\n",
    "import pandas as pd                 # For working with dataframes\n",
    "import numpy as np                  # For numerical operations\n",
    "import matplotlib.pyplot as plt\n",
    "%matplotlib inline\n",
    "import seaborn as sns  "
   ]
  },
  {
   "cell_type": "markdown",
   "id": "d8d9f882",
   "metadata": {},
   "source": [
    "### Load Dataset"
   ]
  },
  {
   "cell_type": "code",
   "execution_count": 2,
   "id": "029c0152",
   "metadata": {
    "scrolled": true
   },
   "outputs": [
    {
     "data": {
      "text/html": [
       "<div>\n",
       "<style scoped>\n",
       "    .dataframe tbody tr th:only-of-type {\n",
       "        vertical-align: middle;\n",
       "    }\n",
       "\n",
       "    .dataframe tbody tr th {\n",
       "        vertical-align: top;\n",
       "    }\n",
       "\n",
       "    .dataframe thead th {\n",
       "        text-align: right;\n",
       "    }\n",
       "</style>\n",
       "<table border=\"1\" class=\"dataframe\">\n",
       "  <thead>\n",
       "    <tr style=\"text-align: right;\">\n",
       "      <th></th>\n",
       "      <th>movieId</th>\n",
       "      <th>title</th>\n",
       "      <th>genres</th>\n",
       "    </tr>\n",
       "  </thead>\n",
       "  <tbody>\n",
       "    <tr>\n",
       "      <th>0</th>\n",
       "      <td>1</td>\n",
       "      <td>Toy Story (1995)</td>\n",
       "      <td>Adventure|Animation|Children|Comedy|Fantasy</td>\n",
       "    </tr>\n",
       "    <tr>\n",
       "      <th>1</th>\n",
       "      <td>2</td>\n",
       "      <td>Jumanji (1995)</td>\n",
       "      <td>Adventure|Children|Fantasy</td>\n",
       "    </tr>\n",
       "    <tr>\n",
       "      <th>2</th>\n",
       "      <td>3</td>\n",
       "      <td>Grumpier Old Men (1995)</td>\n",
       "      <td>Comedy|Romance</td>\n",
       "    </tr>\n",
       "    <tr>\n",
       "      <th>3</th>\n",
       "      <td>4</td>\n",
       "      <td>Waiting to Exhale (1995)</td>\n",
       "      <td>Comedy|Drama|Romance</td>\n",
       "    </tr>\n",
       "    <tr>\n",
       "      <th>4</th>\n",
       "      <td>5</td>\n",
       "      <td>Father of the Bride Part II (1995)</td>\n",
       "      <td>Comedy</td>\n",
       "    </tr>\n",
       "  </tbody>\n",
       "</table>\n",
       "</div>"
      ],
      "text/plain": [
       "   movieId                               title  \\\n",
       "0        1                    Toy Story (1995)   \n",
       "1        2                      Jumanji (1995)   \n",
       "2        3             Grumpier Old Men (1995)   \n",
       "3        4            Waiting to Exhale (1995)   \n",
       "4        5  Father of the Bride Part II (1995)   \n",
       "\n",
       "                                        genres  \n",
       "0  Adventure|Animation|Children|Comedy|Fantasy  \n",
       "1                   Adventure|Children|Fantasy  \n",
       "2                               Comedy|Romance  \n",
       "3                         Comedy|Drama|Romance  \n",
       "4                                       Comedy  "
      ]
     },
     "execution_count": 2,
     "metadata": {},
     "output_type": "execute_result"
    }
   ],
   "source": [
    "movies_df = pd.read_csv(\"../Data/movies.csv\")\n",
    "movies_df.head()"
   ]
  },
  {
   "cell_type": "code",
   "execution_count": 3,
   "id": "903ac516",
   "metadata": {},
   "outputs": [
    {
     "name": "stdout",
     "output_type": "stream",
     "text": [
      "<class 'pandas.core.frame.DataFrame'>\n",
      "RangeIndex: 9742 entries, 0 to 9741\n",
      "Data columns (total 3 columns):\n",
      " #   Column   Non-Null Count  Dtype \n",
      "---  ------   --------------  ----- \n",
      " 0   movieId  9742 non-null   int64 \n",
      " 1   title    9742 non-null   object\n",
      " 2   genres   9742 non-null   object\n",
      "dtypes: int64(1), object(2)\n",
      "memory usage: 228.5+ KB\n"
     ]
    }
   ],
   "source": [
    "movies_df.info()"
   ]
  },
  {
   "cell_type": "code",
   "execution_count": 4,
   "id": "e4ac0b5e",
   "metadata": {},
   "outputs": [
    {
     "name": "stdout",
     "output_type": "stream",
     "text": [
      "Dataset Shape:\n",
      "=================\n",
      "Number of Rows: 9742\n",
      "Number of Columns: 3\n"
     ]
    }
   ],
   "source": [
    "# Display the shape of the dataset (number of rows and columns)\n",
    "print(\"Dataset Shape:\")\n",
    "print(\"=================\")\n",
    "print(\"Number of Rows:\", movies_df.shape[0])\n",
    "print(\"Number of Columns:\", movies_df.shape[1])"
   ]
  },
  {
   "cell_type": "code",
   "execution_count": 5,
   "id": "a54be43c",
   "metadata": {},
   "outputs": [
    {
     "name": "stdout",
     "output_type": "stream",
     "text": [
      "Data Types of Columns:\n",
      "============================\n",
      "movieId     int64\n",
      "title      object\n",
      "genres     object\n",
      "dtype: object\n"
     ]
    }
   ],
   "source": [
    "# Display the data types of columns\n",
    "print(\"Data Types of Columns:\")\n",
    "print(\"============================\")\n",
    "print(movies_df.dtypes)"
   ]
  },
  {
   "cell_type": "markdown",
   "id": "12371fae",
   "metadata": {},
   "source": [
    "###  `ratings.csv`\n"
   ]
  },
  {
   "cell_type": "code",
   "execution_count": 6,
   "id": "0b575bc5",
   "metadata": {},
   "outputs": [
    {
     "data": {
      "text/html": [
       "<div>\n",
       "<style scoped>\n",
       "    .dataframe tbody tr th:only-of-type {\n",
       "        vertical-align: middle;\n",
       "    }\n",
       "\n",
       "    .dataframe tbody tr th {\n",
       "        vertical-align: top;\n",
       "    }\n",
       "\n",
       "    .dataframe thead th {\n",
       "        text-align: right;\n",
       "    }\n",
       "</style>\n",
       "<table border=\"1\" class=\"dataframe\">\n",
       "  <thead>\n",
       "    <tr style=\"text-align: right;\">\n",
       "      <th></th>\n",
       "      <th>userId</th>\n",
       "      <th>movieId</th>\n",
       "      <th>rating</th>\n",
       "      <th>timestamp</th>\n",
       "    </tr>\n",
       "  </thead>\n",
       "  <tbody>\n",
       "    <tr>\n",
       "      <th>0</th>\n",
       "      <td>1</td>\n",
       "      <td>1</td>\n",
       "      <td>4.0</td>\n",
       "      <td>964982703</td>\n",
       "    </tr>\n",
       "    <tr>\n",
       "      <th>1</th>\n",
       "      <td>1</td>\n",
       "      <td>3</td>\n",
       "      <td>4.0</td>\n",
       "      <td>964981247</td>\n",
       "    </tr>\n",
       "    <tr>\n",
       "      <th>2</th>\n",
       "      <td>1</td>\n",
       "      <td>6</td>\n",
       "      <td>4.0</td>\n",
       "      <td>964982224</td>\n",
       "    </tr>\n",
       "    <tr>\n",
       "      <th>3</th>\n",
       "      <td>1</td>\n",
       "      <td>47</td>\n",
       "      <td>5.0</td>\n",
       "      <td>964983815</td>\n",
       "    </tr>\n",
       "    <tr>\n",
       "      <th>4</th>\n",
       "      <td>1</td>\n",
       "      <td>50</td>\n",
       "      <td>5.0</td>\n",
       "      <td>964982931</td>\n",
       "    </tr>\n",
       "  </tbody>\n",
       "</table>\n",
       "</div>"
      ],
      "text/plain": [
       "   userId  movieId  rating  timestamp\n",
       "0       1        1     4.0  964982703\n",
       "1       1        3     4.0  964981247\n",
       "2       1        6     4.0  964982224\n",
       "3       1       47     5.0  964983815\n",
       "4       1       50     5.0  964982931"
      ]
     },
     "execution_count": 6,
     "metadata": {},
     "output_type": "execute_result"
    }
   ],
   "source": [
    "ratings_df = pd.read_csv('../Data/ratings.csv')\n",
    "ratings_df.head()"
   ]
  },
  {
   "cell_type": "code",
   "execution_count": 7,
   "id": "51ab1908",
   "metadata": {},
   "outputs": [
    {
     "name": "stdout",
     "output_type": "stream",
     "text": [
      "<class 'pandas.core.frame.DataFrame'>\n",
      "RangeIndex: 100836 entries, 0 to 100835\n",
      "Data columns (total 4 columns):\n",
      " #   Column     Non-Null Count   Dtype  \n",
      "---  ------     --------------   -----  \n",
      " 0   userId     100836 non-null  int64  \n",
      " 1   movieId    100836 non-null  int64  \n",
      " 2   rating     100836 non-null  float64\n",
      " 3   timestamp  100836 non-null  int64  \n",
      "dtypes: float64(1), int64(3)\n",
      "memory usage: 3.1 MB\n"
     ]
    }
   ],
   "source": [
    "ratings_df.info()"
   ]
  },
  {
   "cell_type": "code",
   "execution_count": 8,
   "id": "64a84c3c",
   "metadata": {},
   "outputs": [
    {
     "name": "stdout",
     "output_type": "stream",
     "text": [
      "Dataset Shape:\n",
      "=================\n",
      "Number of Rows: 100836\n",
      "Number of Columns: 4\n"
     ]
    }
   ],
   "source": [
    "# Display the shape of the dataset (number of rows and columns)\n",
    "print(\"Dataset Shape:\")\n",
    "print(\"=================\")\n",
    "print(\"Number of Rows:\", ratings_df.shape[0])\n",
    "print(\"Number of Columns:\", ratings_df.shape[1])"
   ]
  },
  {
   "cell_type": "code",
   "execution_count": 9,
   "id": "8a59ec1f",
   "metadata": {},
   "outputs": [
    {
     "name": "stdout",
     "output_type": "stream",
     "text": [
      "Data Types of Columns:\n",
      "============================\n",
      "userId         int64\n",
      "movieId        int64\n",
      "rating       float64\n",
      "timestamp      int64\n",
      "dtype: object\n"
     ]
    }
   ],
   "source": [
    "# Display the data types of columns\n",
    "print(\"Data Types of Columns:\")\n",
    "print(\"============================\")\n",
    "print(ratings_df.dtypes)"
   ]
  },
  {
   "cell_type": "code",
   "execution_count": 10,
   "id": "85706f4c",
   "metadata": {},
   "outputs": [
    {
     "data": {
      "text/html": [
       "<div>\n",
       "<style scoped>\n",
       "    .dataframe tbody tr th:only-of-type {\n",
       "        vertical-align: middle;\n",
       "    }\n",
       "\n",
       "    .dataframe tbody tr th {\n",
       "        vertical-align: top;\n",
       "    }\n",
       "\n",
       "    .dataframe thead th {\n",
       "        text-align: right;\n",
       "    }\n",
       "</style>\n",
       "<table border=\"1\" class=\"dataframe\">\n",
       "  <thead>\n",
       "    <tr style=\"text-align: right;\">\n",
       "      <th></th>\n",
       "      <th>count</th>\n",
       "      <th>mean</th>\n",
       "      <th>std</th>\n",
       "      <th>min</th>\n",
       "      <th>25%</th>\n",
       "      <th>50%</th>\n",
       "      <th>75%</th>\n",
       "      <th>max</th>\n",
       "    </tr>\n",
       "  </thead>\n",
       "  <tbody>\n",
       "    <tr>\n",
       "      <th>userId</th>\n",
       "      <td>100836.0</td>\n",
       "      <td>3.261276e+02</td>\n",
       "      <td>1.826185e+02</td>\n",
       "      <td>1.0</td>\n",
       "      <td>1.770000e+02</td>\n",
       "      <td>3.250000e+02</td>\n",
       "      <td>4.770000e+02</td>\n",
       "      <td>6.100000e+02</td>\n",
       "    </tr>\n",
       "    <tr>\n",
       "      <th>movieId</th>\n",
       "      <td>100836.0</td>\n",
       "      <td>1.943530e+04</td>\n",
       "      <td>3.553099e+04</td>\n",
       "      <td>1.0</td>\n",
       "      <td>1.199000e+03</td>\n",
       "      <td>2.991000e+03</td>\n",
       "      <td>8.122000e+03</td>\n",
       "      <td>1.936090e+05</td>\n",
       "    </tr>\n",
       "    <tr>\n",
       "      <th>rating</th>\n",
       "      <td>100836.0</td>\n",
       "      <td>3.501557e+00</td>\n",
       "      <td>1.042529e+00</td>\n",
       "      <td>0.5</td>\n",
       "      <td>3.000000e+00</td>\n",
       "      <td>3.500000e+00</td>\n",
       "      <td>4.000000e+00</td>\n",
       "      <td>5.000000e+00</td>\n",
       "    </tr>\n",
       "    <tr>\n",
       "      <th>timestamp</th>\n",
       "      <td>100836.0</td>\n",
       "      <td>1.205946e+09</td>\n",
       "      <td>2.162610e+08</td>\n",
       "      <td>828124615.0</td>\n",
       "      <td>1.019124e+09</td>\n",
       "      <td>1.186087e+09</td>\n",
       "      <td>1.435994e+09</td>\n",
       "      <td>1.537799e+09</td>\n",
       "    </tr>\n",
       "  </tbody>\n",
       "</table>\n",
       "</div>"
      ],
      "text/plain": [
       "              count          mean           std          min           25%  \\\n",
       "userId     100836.0  3.261276e+02  1.826185e+02          1.0  1.770000e+02   \n",
       "movieId    100836.0  1.943530e+04  3.553099e+04          1.0  1.199000e+03   \n",
       "rating     100836.0  3.501557e+00  1.042529e+00          0.5  3.000000e+00   \n",
       "timestamp  100836.0  1.205946e+09  2.162610e+08  828124615.0  1.019124e+09   \n",
       "\n",
       "                    50%           75%           max  \n",
       "userId     3.250000e+02  4.770000e+02  6.100000e+02  \n",
       "movieId    2.991000e+03  8.122000e+03  1.936090e+05  \n",
       "rating     3.500000e+00  4.000000e+00  5.000000e+00  \n",
       "timestamp  1.186087e+09  1.435994e+09  1.537799e+09  "
      ]
     },
     "execution_count": 10,
     "metadata": {},
     "output_type": "execute_result"
    }
   ],
   "source": [
    "ratings_df.describe().T"
   ]
  },
  {
   "cell_type": "markdown",
   "id": "acc62043",
   "metadata": {},
   "source": [
    "### `tags.csv`"
   ]
  },
  {
   "cell_type": "code",
   "execution_count": 11,
   "id": "dee3b99f",
   "metadata": {
    "scrolled": true
   },
   "outputs": [
    {
     "data": {
      "text/html": [
       "<div>\n",
       "<style scoped>\n",
       "    .dataframe tbody tr th:only-of-type {\n",
       "        vertical-align: middle;\n",
       "    }\n",
       "\n",
       "    .dataframe tbody tr th {\n",
       "        vertical-align: top;\n",
       "    }\n",
       "\n",
       "    .dataframe thead th {\n",
       "        text-align: right;\n",
       "    }\n",
       "</style>\n",
       "<table border=\"1\" class=\"dataframe\">\n",
       "  <thead>\n",
       "    <tr style=\"text-align: right;\">\n",
       "      <th></th>\n",
       "      <th>userId</th>\n",
       "      <th>movieId</th>\n",
       "      <th>tag</th>\n",
       "      <th>timestamp</th>\n",
       "    </tr>\n",
       "  </thead>\n",
       "  <tbody>\n",
       "    <tr>\n",
       "      <th>0</th>\n",
       "      <td>2</td>\n",
       "      <td>60756</td>\n",
       "      <td>funny</td>\n",
       "      <td>1445714994</td>\n",
       "    </tr>\n",
       "    <tr>\n",
       "      <th>1</th>\n",
       "      <td>2</td>\n",
       "      <td>60756</td>\n",
       "      <td>Highly quotable</td>\n",
       "      <td>1445714996</td>\n",
       "    </tr>\n",
       "    <tr>\n",
       "      <th>2</th>\n",
       "      <td>2</td>\n",
       "      <td>60756</td>\n",
       "      <td>will ferrell</td>\n",
       "      <td>1445714992</td>\n",
       "    </tr>\n",
       "    <tr>\n",
       "      <th>3</th>\n",
       "      <td>2</td>\n",
       "      <td>89774</td>\n",
       "      <td>Boxing story</td>\n",
       "      <td>1445715207</td>\n",
       "    </tr>\n",
       "    <tr>\n",
       "      <th>4</th>\n",
       "      <td>2</td>\n",
       "      <td>89774</td>\n",
       "      <td>MMA</td>\n",
       "      <td>1445715200</td>\n",
       "    </tr>\n",
       "  </tbody>\n",
       "</table>\n",
       "</div>"
      ],
      "text/plain": [
       "   userId  movieId              tag   timestamp\n",
       "0       2    60756            funny  1445714994\n",
       "1       2    60756  Highly quotable  1445714996\n",
       "2       2    60756     will ferrell  1445714992\n",
       "3       2    89774     Boxing story  1445715207\n",
       "4       2    89774              MMA  1445715200"
      ]
     },
     "execution_count": 11,
     "metadata": {},
     "output_type": "execute_result"
    }
   ],
   "source": [
    "tags_df = pd.read_csv('../Data/tags.csv')\n",
    "tags_df.head()"
   ]
  },
  {
   "cell_type": "code",
   "execution_count": 12,
   "id": "9d84518f",
   "metadata": {},
   "outputs": [
    {
     "name": "stdout",
     "output_type": "stream",
     "text": [
      "<class 'pandas.core.frame.DataFrame'>\n",
      "RangeIndex: 3683 entries, 0 to 3682\n",
      "Data columns (total 4 columns):\n",
      " #   Column     Non-Null Count  Dtype \n",
      "---  ------     --------------  ----- \n",
      " 0   userId     3683 non-null   int64 \n",
      " 1   movieId    3683 non-null   int64 \n",
      " 2   tag        3683 non-null   object\n",
      " 3   timestamp  3683 non-null   int64 \n",
      "dtypes: int64(3), object(1)\n",
      "memory usage: 115.2+ KB\n"
     ]
    }
   ],
   "source": [
    "tags_df.info()"
   ]
  },
  {
   "cell_type": "code",
   "execution_count": 13,
   "id": "4ccc7189",
   "metadata": {},
   "outputs": [
    {
     "name": "stdout",
     "output_type": "stream",
     "text": [
      "Dataset Shape:\n",
      "=================\n",
      "Number of Rows: 3683\n",
      "Number of Columns: 4\n"
     ]
    }
   ],
   "source": [
    "# Display the shape of the dataset (number of rows and columns)\n",
    "print(\"Dataset Shape:\")\n",
    "print(\"=================\")\n",
    "print(\"Number of Rows:\", tags_df.shape[0])\n",
    "print(\"Number of Columns:\", tags_df.shape[1])"
   ]
  },
  {
   "cell_type": "code",
   "execution_count": 14,
   "id": "dba03c0a",
   "metadata": {
    "scrolled": true
   },
   "outputs": [
    {
     "name": "stdout",
     "output_type": "stream",
     "text": [
      "Data Types of Columns:\n",
      "============================\n",
      "userId        int64\n",
      "movieId       int64\n",
      "tag          object\n",
      "timestamp     int64\n",
      "dtype: object\n"
     ]
    }
   ],
   "source": [
    "# Display the data types of columns\n",
    "print(\"Data Types of Columns:\")\n",
    "print(\"============================\")\n",
    "print(tags_df.dtypes)"
   ]
  },
  {
   "cell_type": "code",
   "execution_count": 15,
   "id": "10fc5b6b",
   "metadata": {},
   "outputs": [
    {
     "data": {
      "text/html": [
       "<div>\n",
       "<style scoped>\n",
       "    .dataframe tbody tr th:only-of-type {\n",
       "        vertical-align: middle;\n",
       "    }\n",
       "\n",
       "    .dataframe tbody tr th {\n",
       "        vertical-align: top;\n",
       "    }\n",
       "\n",
       "    .dataframe thead th {\n",
       "        text-align: right;\n",
       "    }\n",
       "</style>\n",
       "<table border=\"1\" class=\"dataframe\">\n",
       "  <thead>\n",
       "    <tr style=\"text-align: right;\">\n",
       "      <th></th>\n",
       "      <th>count</th>\n",
       "      <th>mean</th>\n",
       "      <th>std</th>\n",
       "      <th>min</th>\n",
       "      <th>25%</th>\n",
       "      <th>50%</th>\n",
       "      <th>75%</th>\n",
       "      <th>max</th>\n",
       "    </tr>\n",
       "  </thead>\n",
       "  <tbody>\n",
       "    <tr>\n",
       "      <th>userId</th>\n",
       "      <td>3683.0</td>\n",
       "      <td>4.311493e+02</td>\n",
       "      <td>1.584726e+02</td>\n",
       "      <td>2.000000e+00</td>\n",
       "      <td>4.240000e+02</td>\n",
       "      <td>4.740000e+02</td>\n",
       "      <td>4.770000e+02</td>\n",
       "      <td>6.100000e+02</td>\n",
       "    </tr>\n",
       "    <tr>\n",
       "      <th>movieId</th>\n",
       "      <td>3683.0</td>\n",
       "      <td>2.725201e+04</td>\n",
       "      <td>4.349056e+04</td>\n",
       "      <td>1.000000e+00</td>\n",
       "      <td>1.262500e+03</td>\n",
       "      <td>4.454000e+03</td>\n",
       "      <td>3.926300e+04</td>\n",
       "      <td>1.935650e+05</td>\n",
       "    </tr>\n",
       "    <tr>\n",
       "      <th>timestamp</th>\n",
       "      <td>3683.0</td>\n",
       "      <td>1.320032e+09</td>\n",
       "      <td>1.721025e+08</td>\n",
       "      <td>1.137179e+09</td>\n",
       "      <td>1.137521e+09</td>\n",
       "      <td>1.269833e+09</td>\n",
       "      <td>1.498457e+09</td>\n",
       "      <td>1.537099e+09</td>\n",
       "    </tr>\n",
       "  </tbody>\n",
       "</table>\n",
       "</div>"
      ],
      "text/plain": [
       "            count          mean           std           min           25%  \\\n",
       "userId     3683.0  4.311493e+02  1.584726e+02  2.000000e+00  4.240000e+02   \n",
       "movieId    3683.0  2.725201e+04  4.349056e+04  1.000000e+00  1.262500e+03   \n",
       "timestamp  3683.0  1.320032e+09  1.721025e+08  1.137179e+09  1.137521e+09   \n",
       "\n",
       "                    50%           75%           max  \n",
       "userId     4.740000e+02  4.770000e+02  6.100000e+02  \n",
       "movieId    4.454000e+03  3.926300e+04  1.935650e+05  \n",
       "timestamp  1.269833e+09  1.498457e+09  1.537099e+09  "
      ]
     },
     "execution_count": 15,
     "metadata": {},
     "output_type": "execute_result"
    }
   ],
   "source": [
    "tags_df.describe().T"
   ]
  },
  {
   "cell_type": "markdown",
   "id": "00d298fc",
   "metadata": {},
   "source": [
    "### `links.csv`"
   ]
  },
  {
   "cell_type": "code",
   "execution_count": 16,
   "id": "7d6ebe64",
   "metadata": {},
   "outputs": [
    {
     "data": {
      "text/html": [
       "<div>\n",
       "<style scoped>\n",
       "    .dataframe tbody tr th:only-of-type {\n",
       "        vertical-align: middle;\n",
       "    }\n",
       "\n",
       "    .dataframe tbody tr th {\n",
       "        vertical-align: top;\n",
       "    }\n",
       "\n",
       "    .dataframe thead th {\n",
       "        text-align: right;\n",
       "    }\n",
       "</style>\n",
       "<table border=\"1\" class=\"dataframe\">\n",
       "  <thead>\n",
       "    <tr style=\"text-align: right;\">\n",
       "      <th></th>\n",
       "      <th>movieId</th>\n",
       "      <th>imdbId</th>\n",
       "      <th>tmdbId</th>\n",
       "    </tr>\n",
       "  </thead>\n",
       "  <tbody>\n",
       "    <tr>\n",
       "      <th>0</th>\n",
       "      <td>1</td>\n",
       "      <td>114709</td>\n",
       "      <td>862.0</td>\n",
       "    </tr>\n",
       "    <tr>\n",
       "      <th>1</th>\n",
       "      <td>2</td>\n",
       "      <td>113497</td>\n",
       "      <td>8844.0</td>\n",
       "    </tr>\n",
       "    <tr>\n",
       "      <th>2</th>\n",
       "      <td>3</td>\n",
       "      <td>113228</td>\n",
       "      <td>15602.0</td>\n",
       "    </tr>\n",
       "    <tr>\n",
       "      <th>3</th>\n",
       "      <td>4</td>\n",
       "      <td>114885</td>\n",
       "      <td>31357.0</td>\n",
       "    </tr>\n",
       "    <tr>\n",
       "      <th>4</th>\n",
       "      <td>5</td>\n",
       "      <td>113041</td>\n",
       "      <td>11862.0</td>\n",
       "    </tr>\n",
       "  </tbody>\n",
       "</table>\n",
       "</div>"
      ],
      "text/plain": [
       "   movieId  imdbId   tmdbId\n",
       "0        1  114709    862.0\n",
       "1        2  113497   8844.0\n",
       "2        3  113228  15602.0\n",
       "3        4  114885  31357.0\n",
       "4        5  113041  11862.0"
      ]
     },
     "execution_count": 16,
     "metadata": {},
     "output_type": "execute_result"
    }
   ],
   "source": [
    "links_df = pd.read_csv('../Data/links.csv')\n",
    "links_df.head()"
   ]
  },
  {
   "cell_type": "code",
   "execution_count": 17,
   "id": "365e99a7",
   "metadata": {},
   "outputs": [
    {
     "name": "stdout",
     "output_type": "stream",
     "text": [
      "<class 'pandas.core.frame.DataFrame'>\n",
      "RangeIndex: 9742 entries, 0 to 9741\n",
      "Data columns (total 3 columns):\n",
      " #   Column   Non-Null Count  Dtype  \n",
      "---  ------   --------------  -----  \n",
      " 0   movieId  9742 non-null   int64  \n",
      " 1   imdbId   9742 non-null   int64  \n",
      " 2   tmdbId   9734 non-null   float64\n",
      "dtypes: float64(1), int64(2)\n",
      "memory usage: 228.5 KB\n"
     ]
    }
   ],
   "source": [
    "links_df.info()"
   ]
  },
  {
   "cell_type": "code",
   "execution_count": 18,
   "id": "6de6569f",
   "metadata": {},
   "outputs": [
    {
     "name": "stdout",
     "output_type": "stream",
     "text": [
      "Dataset Shape:\n",
      "=================\n",
      "Number of Rows: 9742\n",
      "Number of Columns: 3\n"
     ]
    }
   ],
   "source": [
    "# Display the shape of the dataset (number of rows and columns)\n",
    "print(\"Dataset Shape:\")\n",
    "print(\"=================\")\n",
    "print(\"Number of Rows:\", links_df.shape[0])\n",
    "print(\"Number of Columns:\", links_df.shape[1])"
   ]
  },
  {
   "cell_type": "code",
   "execution_count": 19,
   "id": "0e8bd58e",
   "metadata": {},
   "outputs": [
    {
     "name": "stdout",
     "output_type": "stream",
     "text": [
      "Data Types of Columns:\n",
      "============================\n",
      "movieId      int64\n",
      "imdbId       int64\n",
      "tmdbId     float64\n",
      "dtype: object\n"
     ]
    }
   ],
   "source": [
    "# Display the data types of columns\n",
    "print(\"Data Types of Columns:\")\n",
    "print(\"============================\")\n",
    "print(links_df.dtypes)"
   ]
  },
  {
   "cell_type": "code",
   "execution_count": null,
   "id": "85b49796",
   "metadata": {},
   "outputs": [],
   "source": []
  },
  {
   "cell_type": "markdown",
   "id": "844df5bc",
   "metadata": {},
   "source": [
    "### Data Cleaning and Preprocessing"
   ]
  },
  {
   "cell_type": "code",
   "execution_count": 20,
   "id": "c423ddba",
   "metadata": {},
   "outputs": [
    {
     "data": {
      "text/plain": [
       "movieId    0\n",
       "imdbId     0\n",
       "tmdbId     8\n",
       "dtype: int64"
      ]
     },
     "execution_count": 20,
     "metadata": {},
     "output_type": "execute_result"
    }
   ],
   "source": [
    "links_df.isna().sum()"
   ]
  },
  {
   "cell_type": "code",
   "execution_count": 21,
   "id": "e96b11af",
   "metadata": {},
   "outputs": [],
   "source": [
    "# Dropping rows where 'tmdbId' is missing\n",
    "\n",
    "links_df.dropna(subset=['tmdbId'], inplace=True)\n"
   ]
  },
  {
   "cell_type": "code",
   "execution_count": 22,
   "id": "b1dddd79",
   "metadata": {
    "scrolled": true
   },
   "outputs": [
    {
     "name": "stdout",
     "output_type": "stream",
     "text": [
      "Duplicate entries in movies_df: 0\n",
      "Duplicate entries in ratings_df: 0\n",
      "Duplicate entries in tags_df: 0\n",
      "Duplicate entries in links_df: 0\n"
     ]
    }
   ],
   "source": [
    "# Check for duplicates in each dataframe\n",
    "print(f\"Duplicate entries in movies_df: {movies_df.duplicated().sum()}\")\n",
    "print(f\"Duplicate entries in ratings_df: {ratings_df.duplicated().sum()}\")\n",
    "print(f\"Duplicate entries in tags_df: {tags_df.duplicated().sum()}\")\n",
    "print(f\"Duplicate entries in links_df: {links_df.duplicated().sum()}\")\n"
   ]
  },
  {
   "cell_type": "code",
   "execution_count": 23,
   "id": "d32b6562",
   "metadata": {},
   "outputs": [
    {
     "data": {
      "text/html": [
       "<div>\n",
       "<style scoped>\n",
       "    .dataframe tbody tr th:only-of-type {\n",
       "        vertical-align: middle;\n",
       "    }\n",
       "\n",
       "    .dataframe tbody tr th {\n",
       "        vertical-align: top;\n",
       "    }\n",
       "\n",
       "    .dataframe thead th {\n",
       "        text-align: right;\n",
       "    }\n",
       "</style>\n",
       "<table border=\"1\" class=\"dataframe\">\n",
       "  <thead>\n",
       "    <tr style=\"text-align: right;\">\n",
       "      <th></th>\n",
       "      <th>userId</th>\n",
       "      <th>movieId</th>\n",
       "      <th>rating</th>\n",
       "      <th>timestamp</th>\n",
       "      <th>datetime</th>\n",
       "    </tr>\n",
       "  </thead>\n",
       "  <tbody>\n",
       "    <tr>\n",
       "      <th>0</th>\n",
       "      <td>1</td>\n",
       "      <td>1</td>\n",
       "      <td>4.0</td>\n",
       "      <td>964982703</td>\n",
       "      <td>2000-07-30 18:45:03</td>\n",
       "    </tr>\n",
       "    <tr>\n",
       "      <th>1</th>\n",
       "      <td>1</td>\n",
       "      <td>3</td>\n",
       "      <td>4.0</td>\n",
       "      <td>964981247</td>\n",
       "      <td>2000-07-30 18:20:47</td>\n",
       "    </tr>\n",
       "    <tr>\n",
       "      <th>2</th>\n",
       "      <td>1</td>\n",
       "      <td>6</td>\n",
       "      <td>4.0</td>\n",
       "      <td>964982224</td>\n",
       "      <td>2000-07-30 18:37:04</td>\n",
       "    </tr>\n",
       "    <tr>\n",
       "      <th>3</th>\n",
       "      <td>1</td>\n",
       "      <td>47</td>\n",
       "      <td>5.0</td>\n",
       "      <td>964983815</td>\n",
       "      <td>2000-07-30 19:03:35</td>\n",
       "    </tr>\n",
       "    <tr>\n",
       "      <th>4</th>\n",
       "      <td>1</td>\n",
       "      <td>50</td>\n",
       "      <td>5.0</td>\n",
       "      <td>964982931</td>\n",
       "      <td>2000-07-30 18:48:51</td>\n",
       "    </tr>\n",
       "  </tbody>\n",
       "</table>\n",
       "</div>"
      ],
      "text/plain": [
       "   userId  movieId  rating  timestamp            datetime\n",
       "0       1        1     4.0  964982703 2000-07-30 18:45:03\n",
       "1       1        3     4.0  964981247 2000-07-30 18:20:47\n",
       "2       1        6     4.0  964982224 2000-07-30 18:37:04\n",
       "3       1       47     5.0  964983815 2000-07-30 19:03:35\n",
       "4       1       50     5.0  964982931 2000-07-30 18:48:51"
      ]
     },
     "execution_count": 23,
     "metadata": {},
     "output_type": "execute_result"
    }
   ],
   "source": [
    "# Converting 'timestamp' in ratings_df to datetime format\n",
    "ratings_df['datetime'] = pd.to_datetime(ratings_df['timestamp'], unit='s')\n",
    "ratings_df.head()\n"
   ]
  },
  {
   "cell_type": "code",
   "execution_count": 24,
   "id": "f396bc63",
   "metadata": {},
   "outputs": [
    {
     "data": {
      "text/html": [
       "<div>\n",
       "<style scoped>\n",
       "    .dataframe tbody tr th:only-of-type {\n",
       "        vertical-align: middle;\n",
       "    }\n",
       "\n",
       "    .dataframe tbody tr th {\n",
       "        vertical-align: top;\n",
       "    }\n",
       "\n",
       "    .dataframe thead th {\n",
       "        text-align: right;\n",
       "    }\n",
       "</style>\n",
       "<table border=\"1\" class=\"dataframe\">\n",
       "  <thead>\n",
       "    <tr style=\"text-align: right;\">\n",
       "      <th></th>\n",
       "      <th>movieId</th>\n",
       "      <th>title</th>\n",
       "      <th>genres</th>\n",
       "      <th>year</th>\n",
       "    </tr>\n",
       "  </thead>\n",
       "  <tbody>\n",
       "    <tr>\n",
       "      <th>0</th>\n",
       "      <td>1</td>\n",
       "      <td>Toy Story (1995)</td>\n",
       "      <td>Adventure|Animation|Children|Comedy|Fantasy</td>\n",
       "      <td>1995</td>\n",
       "    </tr>\n",
       "    <tr>\n",
       "      <th>1</th>\n",
       "      <td>2</td>\n",
       "      <td>Jumanji (1995)</td>\n",
       "      <td>Adventure|Children|Fantasy</td>\n",
       "      <td>1995</td>\n",
       "    </tr>\n",
       "    <tr>\n",
       "      <th>2</th>\n",
       "      <td>3</td>\n",
       "      <td>Grumpier Old Men (1995)</td>\n",
       "      <td>Comedy|Romance</td>\n",
       "      <td>1995</td>\n",
       "    </tr>\n",
       "    <tr>\n",
       "      <th>3</th>\n",
       "      <td>4</td>\n",
       "      <td>Waiting to Exhale (1995)</td>\n",
       "      <td>Comedy|Drama|Romance</td>\n",
       "      <td>1995</td>\n",
       "    </tr>\n",
       "    <tr>\n",
       "      <th>4</th>\n",
       "      <td>5</td>\n",
       "      <td>Father of the Bride Part II (1995)</td>\n",
       "      <td>Comedy</td>\n",
       "      <td>1995</td>\n",
       "    </tr>\n",
       "  </tbody>\n",
       "</table>\n",
       "</div>"
      ],
      "text/plain": [
       "   movieId                               title  \\\n",
       "0        1                    Toy Story (1995)   \n",
       "1        2                      Jumanji (1995)   \n",
       "2        3             Grumpier Old Men (1995)   \n",
       "3        4            Waiting to Exhale (1995)   \n",
       "4        5  Father of the Bride Part II (1995)   \n",
       "\n",
       "                                        genres  year  \n",
       "0  Adventure|Animation|Children|Comedy|Fantasy  1995  \n",
       "1                   Adventure|Children|Fantasy  1995  \n",
       "2                               Comedy|Romance  1995  \n",
       "3                         Comedy|Drama|Romance  1995  \n",
       "4                                       Comedy  1995  "
      ]
     },
     "execution_count": 24,
     "metadata": {},
     "output_type": "execute_result"
    }
   ],
   "source": [
    "# Extracting year from the 'title' column in movies_df\n",
    "movies_df['year'] = movies_df['title'].str.extract(r'\\((\\d{4})\\)')\n",
    "movies_df.head()"
   ]
  },
  {
   "cell_type": "code",
   "execution_count": 25,
   "id": "84c13918",
   "metadata": {},
   "outputs": [
    {
     "data": {
      "text/plain": [
       "year\n",
       "2002    311\n",
       "2006    295\n",
       "2001    294\n",
       "2007    284\n",
       "2000    283\n",
       "       ... \n",
       "1917      1\n",
       "1915      1\n",
       "1919      1\n",
       "1921      1\n",
       "1908      1\n",
       "Name: count, Length: 106, dtype: int64"
      ]
     },
     "execution_count": 25,
     "metadata": {},
     "output_type": "execute_result"
    }
   ],
   "source": [
    "movies_df[\"year\"].value_counts()"
   ]
  },
  {
   "cell_type": "markdown",
   "id": "521c54c7",
   "metadata": {},
   "source": [
    "### Merging \n",
    "Most import dataset for the analysis are movies_df & ratings_df"
   ]
  },
  {
   "cell_type": "code",
   "execution_count": 26,
   "id": "c3aaa8e2",
   "metadata": {
    "scrolled": true
   },
   "outputs": [
    {
     "data": {
      "text/html": [
       "<div>\n",
       "<style scoped>\n",
       "    .dataframe tbody tr th:only-of-type {\n",
       "        vertical-align: middle;\n",
       "    }\n",
       "\n",
       "    .dataframe tbody tr th {\n",
       "        vertical-align: top;\n",
       "    }\n",
       "\n",
       "    .dataframe thead th {\n",
       "        text-align: right;\n",
       "    }\n",
       "</style>\n",
       "<table border=\"1\" class=\"dataframe\">\n",
       "  <thead>\n",
       "    <tr style=\"text-align: right;\">\n",
       "      <th></th>\n",
       "      <th>movieId</th>\n",
       "      <th>title</th>\n",
       "      <th>genres</th>\n",
       "      <th>year</th>\n",
       "      <th>userId</th>\n",
       "      <th>rating</th>\n",
       "      <th>timestamp</th>\n",
       "      <th>datetime</th>\n",
       "    </tr>\n",
       "  </thead>\n",
       "  <tbody>\n",
       "    <tr>\n",
       "      <th>0</th>\n",
       "      <td>1</td>\n",
       "      <td>Toy Story (1995)</td>\n",
       "      <td>Adventure|Animation|Children|Comedy|Fantasy</td>\n",
       "      <td>1995</td>\n",
       "      <td>1</td>\n",
       "      <td>4.0</td>\n",
       "      <td>964982703</td>\n",
       "      <td>2000-07-30 18:45:03</td>\n",
       "    </tr>\n",
       "    <tr>\n",
       "      <th>1</th>\n",
       "      <td>1</td>\n",
       "      <td>Toy Story (1995)</td>\n",
       "      <td>Adventure|Animation|Children|Comedy|Fantasy</td>\n",
       "      <td>1995</td>\n",
       "      <td>5</td>\n",
       "      <td>4.0</td>\n",
       "      <td>847434962</td>\n",
       "      <td>1996-11-08 06:36:02</td>\n",
       "    </tr>\n",
       "    <tr>\n",
       "      <th>2</th>\n",
       "      <td>1</td>\n",
       "      <td>Toy Story (1995)</td>\n",
       "      <td>Adventure|Animation|Children|Comedy|Fantasy</td>\n",
       "      <td>1995</td>\n",
       "      <td>7</td>\n",
       "      <td>4.5</td>\n",
       "      <td>1106635946</td>\n",
       "      <td>2005-01-25 06:52:26</td>\n",
       "    </tr>\n",
       "    <tr>\n",
       "      <th>3</th>\n",
       "      <td>1</td>\n",
       "      <td>Toy Story (1995)</td>\n",
       "      <td>Adventure|Animation|Children|Comedy|Fantasy</td>\n",
       "      <td>1995</td>\n",
       "      <td>15</td>\n",
       "      <td>2.5</td>\n",
       "      <td>1510577970</td>\n",
       "      <td>2017-11-13 12:59:30</td>\n",
       "    </tr>\n",
       "    <tr>\n",
       "      <th>4</th>\n",
       "      <td>1</td>\n",
       "      <td>Toy Story (1995)</td>\n",
       "      <td>Adventure|Animation|Children|Comedy|Fantasy</td>\n",
       "      <td>1995</td>\n",
       "      <td>17</td>\n",
       "      <td>4.5</td>\n",
       "      <td>1305696483</td>\n",
       "      <td>2011-05-18 05:28:03</td>\n",
       "    </tr>\n",
       "  </tbody>\n",
       "</table>\n",
       "</div>"
      ],
      "text/plain": [
       "   movieId             title                                       genres  \\\n",
       "0        1  Toy Story (1995)  Adventure|Animation|Children|Comedy|Fantasy   \n",
       "1        1  Toy Story (1995)  Adventure|Animation|Children|Comedy|Fantasy   \n",
       "2        1  Toy Story (1995)  Adventure|Animation|Children|Comedy|Fantasy   \n",
       "3        1  Toy Story (1995)  Adventure|Animation|Children|Comedy|Fantasy   \n",
       "4        1  Toy Story (1995)  Adventure|Animation|Children|Comedy|Fantasy   \n",
       "\n",
       "   year  userId  rating   timestamp            datetime  \n",
       "0  1995       1     4.0   964982703 2000-07-30 18:45:03  \n",
       "1  1995       5     4.0   847434962 1996-11-08 06:36:02  \n",
       "2  1995       7     4.5  1106635946 2005-01-25 06:52:26  \n",
       "3  1995      15     2.5  1510577970 2017-11-13 12:59:30  \n",
       "4  1995      17     4.5  1305696483 2011-05-18 05:28:03  "
      ]
     },
     "execution_count": 26,
     "metadata": {},
     "output_type": "execute_result"
    }
   ],
   "source": [
    "# Merge movies_df with ratings_df on the 'movieId' column\n",
    "merged_df = pd.merge(movies_df, ratings_df, on='movieId')\n",
    "\n",
    "# Display the first few rows of the merged dataframe to verify the merge was successful\n",
    "merged_df.head()\n"
   ]
  },
  {
   "cell_type": "code",
   "execution_count": 27,
   "id": "3350b905",
   "metadata": {
    "scrolled": true
   },
   "outputs": [
    {
     "name": "stdout",
     "output_type": "stream",
     "text": [
      "\n",
      "Merged Dataset Shape: (100836, 8)\n",
      "\n",
      "Merged Dataset Info:\n",
      "<class 'pandas.core.frame.DataFrame'>\n",
      "RangeIndex: 100836 entries, 0 to 100835\n",
      "Data columns (total 8 columns):\n",
      " #   Column     Non-Null Count   Dtype         \n",
      "---  ------     --------------   -----         \n",
      " 0   movieId    100836 non-null  int64         \n",
      " 1   title      100836 non-null  object        \n",
      " 2   genres     100836 non-null  object        \n",
      " 3   year       100818 non-null  object        \n",
      " 4   userId     100836 non-null  int64         \n",
      " 5   rating     100836 non-null  float64       \n",
      " 6   timestamp  100836 non-null  int64         \n",
      " 7   datetime   100836 non-null  datetime64[ns]\n",
      "dtypes: datetime64[ns](1), float64(1), int64(3), object(3)\n",
      "memory usage: 6.2+ MB\n",
      "None\n"
     ]
    }
   ],
   "source": [
    "# inspect the structure of the merged dataframe\n",
    "print(\"\\nMerged Dataset Shape:\", merged_df.shape)\n",
    "print(\"\\nMerged Dataset Info:\")\n",
    "print(merged_df.info())"
   ]
  },
  {
   "cell_type": "code",
   "execution_count": 28,
   "id": "f5049028",
   "metadata": {
    "scrolled": false
   },
   "outputs": [
    {
     "data": {
      "text/plain": [
       "movieId       0\n",
       "title         0\n",
       "genres        0\n",
       "year         18\n",
       "userId        0\n",
       "rating        0\n",
       "timestamp     0\n",
       "datetime      0\n",
       "dtype: int64"
      ]
     },
     "execution_count": 28,
     "metadata": {},
     "output_type": "execute_result"
    }
   ],
   "source": [
    "merged_df.isna().sum()"
   ]
  },
  {
   "cell_type": "code",
   "execution_count": 29,
   "id": "0303b645",
   "metadata": {
    "scrolled": true
   },
   "outputs": [
    {
     "name": "stdout",
     "output_type": "stream",
     "text": [
      "New Dataset Shape: (100818, 8)\n",
      "Missing 'year' values after correction: 0\n"
     ]
    }
   ],
   "source": [
    "# Dropping rows where 'year' is missing in the merged_df\n",
    "merged_df.dropna(subset=['year'], inplace=True)\n",
    "\n",
    "# Verifying the rows have been dropped\n",
    "print(\"New Dataset Shape:\", merged_df.shape)\n",
    "print(\"Missing 'year' values after correction:\", merged_df['year'].isnull().sum())\n"
   ]
  },
  {
   "cell_type": "code",
   "execution_count": null,
   "id": "ef144bc6",
   "metadata": {},
   "outputs": [],
   "source": []
  },
  {
   "cell_type": "code",
   "execution_count": 30,
   "id": "be7001f3",
   "metadata": {},
   "outputs": [
    {
     "name": "stdout",
     "output_type": "stream",
     "text": [
      "Number of duplicate entries: 0\n"
     ]
    }
   ],
   "source": [
    "# Identifying duplicate rows based on 'userId', 'movieId', and possibly 'rating'\n",
    "# Assuming a combination of these columns should be unique for each rating entry\n",
    "duplicates = merged_df.duplicated(subset=['userId', 'movieId', 'rating'], keep=False)\n",
    "\n",
    "# Counting duplicates\n",
    "duplicate_count = duplicates.sum()\n",
    "print(f\"Number of duplicate entries: {duplicate_count}\")\n",
    "\n",
    "# Optional: Display the duplicate rows to inspect them\n",
    "if duplicate_count > 0:\n",
    "    display(merged_df[duplicates])\n"
   ]
  },
  {
   "cell_type": "code",
   "execution_count": null,
   "id": "81c0634f",
   "metadata": {},
   "outputs": [],
   "source": []
  },
  {
   "cell_type": "code",
   "execution_count": null,
   "id": "4ada0e55",
   "metadata": {},
   "outputs": [],
   "source": []
  },
  {
   "cell_type": "code",
   "execution_count": 31,
   "id": "8a64ada3",
   "metadata": {},
   "outputs": [],
   "source": [
    "# droppping unnecessary columns\n",
    "\n",
    "merged_df.drop(columns=['timestamp', 'datetime'], inplace=True)\n"
   ]
  },
  {
   "cell_type": "code",
   "execution_count": 32,
   "id": "b62a235d",
   "metadata": {
    "scrolled": false
   },
   "outputs": [
    {
     "data": {
      "text/html": [
       "<div>\n",
       "<style scoped>\n",
       "    .dataframe tbody tr th:only-of-type {\n",
       "        vertical-align: middle;\n",
       "    }\n",
       "\n",
       "    .dataframe tbody tr th {\n",
       "        vertical-align: top;\n",
       "    }\n",
       "\n",
       "    .dataframe thead th {\n",
       "        text-align: right;\n",
       "    }\n",
       "</style>\n",
       "<table border=\"1\" class=\"dataframe\">\n",
       "  <thead>\n",
       "    <tr style=\"text-align: right;\">\n",
       "      <th></th>\n",
       "      <th>movieId</th>\n",
       "      <th>title</th>\n",
       "      <th>genres</th>\n",
       "      <th>year</th>\n",
       "      <th>userId</th>\n",
       "      <th>rating</th>\n",
       "    </tr>\n",
       "  </thead>\n",
       "  <tbody>\n",
       "    <tr>\n",
       "      <th>0</th>\n",
       "      <td>1</td>\n",
       "      <td>Toy Story (1995)</td>\n",
       "      <td>Adventure|Animation|Children|Comedy|Fantasy</td>\n",
       "      <td>1995</td>\n",
       "      <td>1</td>\n",
       "      <td>4.0</td>\n",
       "    </tr>\n",
       "    <tr>\n",
       "      <th>1</th>\n",
       "      <td>1</td>\n",
       "      <td>Toy Story (1995)</td>\n",
       "      <td>Adventure|Animation|Children|Comedy|Fantasy</td>\n",
       "      <td>1995</td>\n",
       "      <td>5</td>\n",
       "      <td>4.0</td>\n",
       "    </tr>\n",
       "    <tr>\n",
       "      <th>2</th>\n",
       "      <td>1</td>\n",
       "      <td>Toy Story (1995)</td>\n",
       "      <td>Adventure|Animation|Children|Comedy|Fantasy</td>\n",
       "      <td>1995</td>\n",
       "      <td>7</td>\n",
       "      <td>4.5</td>\n",
       "    </tr>\n",
       "    <tr>\n",
       "      <th>3</th>\n",
       "      <td>1</td>\n",
       "      <td>Toy Story (1995)</td>\n",
       "      <td>Adventure|Animation|Children|Comedy|Fantasy</td>\n",
       "      <td>1995</td>\n",
       "      <td>15</td>\n",
       "      <td>2.5</td>\n",
       "    </tr>\n",
       "    <tr>\n",
       "      <th>4</th>\n",
       "      <td>1</td>\n",
       "      <td>Toy Story (1995)</td>\n",
       "      <td>Adventure|Animation|Children|Comedy|Fantasy</td>\n",
       "      <td>1995</td>\n",
       "      <td>17</td>\n",
       "      <td>4.5</td>\n",
       "    </tr>\n",
       "  </tbody>\n",
       "</table>\n",
       "</div>"
      ],
      "text/plain": [
       "   movieId             title                                       genres  \\\n",
       "0        1  Toy Story (1995)  Adventure|Animation|Children|Comedy|Fantasy   \n",
       "1        1  Toy Story (1995)  Adventure|Animation|Children|Comedy|Fantasy   \n",
       "2        1  Toy Story (1995)  Adventure|Animation|Children|Comedy|Fantasy   \n",
       "3        1  Toy Story (1995)  Adventure|Animation|Children|Comedy|Fantasy   \n",
       "4        1  Toy Story (1995)  Adventure|Animation|Children|Comedy|Fantasy   \n",
       "\n",
       "   year  userId  rating  \n",
       "0  1995       1     4.0  \n",
       "1  1995       5     4.0  \n",
       "2  1995       7     4.5  \n",
       "3  1995      15     2.5  \n",
       "4  1995      17     4.5  "
      ]
     },
     "execution_count": 32,
     "metadata": {},
     "output_type": "execute_result"
    }
   ],
   "source": [
    "merged_df.head()"
   ]
  },
  {
   "cell_type": "code",
   "execution_count": 33,
   "id": "a8df5d3d",
   "metadata": {
    "scrolled": true
   },
   "outputs": [
    {
     "data": {
      "text/plain": [
       "movieId\n",
       "356       329\n",
       "318       317\n",
       "296       307\n",
       "593       279\n",
       "2571      278\n",
       "         ... \n",
       "27816       1\n",
       "27826       1\n",
       "27829       1\n",
       "27830       1\n",
       "193609      1\n",
       "Name: count, Length: 9711, dtype: int64"
      ]
     },
     "execution_count": 33,
     "metadata": {},
     "output_type": "execute_result"
    }
   ],
   "source": [
    "merged_df['movieId'].value_counts()\n"
   ]
  },
  {
   "cell_type": "code",
   "execution_count": 34,
   "id": "2843b18c",
   "metadata": {},
   "outputs": [],
   "source": [
    "# subseting on most popular movies"
   ]
  },
  {
   "cell_type": "code",
   "execution_count": 35,
   "id": "10807936",
   "metadata": {},
   "outputs": [],
   "source": [
    "# subseting on most popular movies\n",
    "# Calculate the number of ratings per movie\n",
    "ratings_count = merged_df['movieId'].value_counts()\n",
    "\n",
    "# Find the threshold for the top 10%\n",
    "threshold = ratings_count.quantile(0.9)\n",
    "\n",
    "# Filter the movies that have more ratings than the threshold\n",
    "top_movies_ids = ratings_count[ratings_count > threshold].index\n",
    "top_movies_df = merged_df[merged_df['movieId'].isin(top_movies_ids)]\n"
   ]
  },
  {
   "cell_type": "code",
   "execution_count": 36,
   "id": "11365631",
   "metadata": {},
   "outputs": [
    {
     "name": "stdout",
     "output_type": "stream",
     "text": [
      "<class 'pandas.core.frame.DataFrame'>\n",
      "Index: 59471 entries, 0 to 99744\n",
      "Data columns (total 6 columns):\n",
      " #   Column   Non-Null Count  Dtype  \n",
      "---  ------   --------------  -----  \n",
      " 0   movieId  59471 non-null  int64  \n",
      " 1   title    59471 non-null  object \n",
      " 2   genres   59471 non-null  object \n",
      " 3   year     59471 non-null  object \n",
      " 4   userId   59471 non-null  int64  \n",
      " 5   rating   59471 non-null  float64\n",
      "dtypes: float64(1), int64(2), object(3)\n",
      "memory usage: 3.2+ MB\n"
     ]
    }
   ],
   "source": [
    "top_movies_df.info()"
   ]
  },
  {
   "cell_type": "markdown",
   "id": "d4226391",
   "metadata": {},
   "source": [
    "### checking for outliers"
   ]
  },
  {
   "cell_type": "code",
   "execution_count": 37,
   "id": "c38fcb54",
   "metadata": {
    "scrolled": true
   },
   "outputs": [
    {
     "name": "stdout",
     "output_type": "stream",
     "text": [
      "\n",
      "Outliers:\n",
      " movieId    1965\n",
      "userId        0\n",
      "rating      589\n",
      "dtype: int64\n"
     ]
    }
   ],
   "source": [
    "# Check for outliers (assuming numeric columns)\n",
    "numeric_columns = top_movies_df.select_dtypes(include=[np.number]).columns\n",
    "outliers = top_movies_df[numeric_columns].apply(lambda x: (x - x.mean()).abs() > 3 * x.std())\n",
    "print(\"\\nOutliers:\\n\", outliers.sum())"
   ]
  },
  {
   "cell_type": "code",
   "execution_count": 38,
   "id": "3c3a0ee8",
   "metadata": {},
   "outputs": [
    {
     "name": "stdout",
     "output_type": "stream",
     "text": [
      "Number of outliers: 2528\n"
     ]
    }
   ],
   "source": [
    "from scipy import stats\n",
    "\n",
    "# Calculate Z-scores for numeric columns\n",
    "z_scores = stats.zscore(top_movies_df.select_dtypes(include=[np.number]))\n",
    "\n",
    "# Identify outliers based on Z-scores (assuming a threshold of 3)\n",
    "outliers = (np.abs(z_scores) > 3).any(axis=1)\n",
    "\n",
    "# Print the number of outliers\n",
    "print(\"Number of outliers:\", outliers.sum())\n"
   ]
  },
  {
   "cell_type": "code",
   "execution_count": 39,
   "id": "10d1aaba",
   "metadata": {},
   "outputs": [
    {
     "name": "stdout",
     "output_type": "stream",
     "text": [
      "<class 'pandas.core.frame.DataFrame'>\n",
      "Index: 59471 entries, 0 to 99744\n",
      "Data columns (total 6 columns):\n",
      " #   Column   Non-Null Count  Dtype  \n",
      "---  ------   --------------  -----  \n",
      " 0   movieId  59471 non-null  int64  \n",
      " 1   title    59471 non-null  object \n",
      " 2   genres   59471 non-null  object \n",
      " 3   year     59471 non-null  object \n",
      " 4   userId   59471 non-null  int64  \n",
      " 5   rating   59471 non-null  float64\n",
      "dtypes: float64(1), int64(2), object(3)\n",
      "memory usage: 3.2+ MB\n"
     ]
    }
   ],
   "source": [
    "top_movies_df.info()"
   ]
  },
  {
   "cell_type": "code",
   "execution_count": 40,
   "id": "7ec542df",
   "metadata": {},
   "outputs": [],
   "source": [
    "from sklearn.preprocessing import MultiLabelBinarizer\n",
    "\n",
    "# Assume `df` is your DataFrame and it has a 'genres' column with genres separated by \"|\"\n",
    "top_movies_df['genres'] = top_movies_df['genres'].apply(lambda x: x.split('|'))\n",
    "\n",
    "mlb = MultiLabelBinarizer()\n",
    "genres_encoded = mlb.fit_transform(top_movies_df['genres'])"
   ]
  },
  {
   "cell_type": "code",
   "execution_count": 41,
   "id": "f969e81d",
   "metadata": {
    "scrolled": true
   },
   "outputs": [
    {
     "data": {
      "text/plain": [
       "array([[0, 1, 1, ..., 0, 0, 0],\n",
       "       [0, 1, 1, ..., 0, 0, 0],\n",
       "       [0, 1, 1, ..., 0, 0, 0],\n",
       "       ...,\n",
       "       [1, 1, 1, ..., 0, 0, 0],\n",
       "       [1, 1, 1, ..., 0, 0, 0],\n",
       "       [1, 1, 1, ..., 0, 0, 0]])"
      ]
     },
     "execution_count": 41,
     "metadata": {},
     "output_type": "execute_result"
    }
   ],
   "source": [
    "genres_encoded"
   ]
  },
  {
   "cell_type": "code",
   "execution_count": 42,
   "id": "b50de8ef",
   "metadata": {},
   "outputs": [
    {
     "data": {
      "text/html": [
       "<div>\n",
       "<style scoped>\n",
       "    .dataframe tbody tr th:only-of-type {\n",
       "        vertical-align: middle;\n",
       "    }\n",
       "\n",
       "    .dataframe tbody tr th {\n",
       "        vertical-align: top;\n",
       "    }\n",
       "\n",
       "    .dataframe thead th {\n",
       "        text-align: right;\n",
       "    }\n",
       "</style>\n",
       "<table border=\"1\" class=\"dataframe\">\n",
       "  <thead>\n",
       "    <tr style=\"text-align: right;\">\n",
       "      <th></th>\n",
       "      <th>movieId</th>\n",
       "      <th>title</th>\n",
       "      <th>genres</th>\n",
       "      <th>year</th>\n",
       "      <th>userId</th>\n",
       "      <th>rating</th>\n",
       "    </tr>\n",
       "  </thead>\n",
       "  <tbody>\n",
       "    <tr>\n",
       "      <th>0</th>\n",
       "      <td>1</td>\n",
       "      <td>Toy Story (1995)</td>\n",
       "      <td>[Adventure, Animation, Children, Comedy, Fantasy]</td>\n",
       "      <td>1995</td>\n",
       "      <td>1</td>\n",
       "      <td>4.0</td>\n",
       "    </tr>\n",
       "    <tr>\n",
       "      <th>1</th>\n",
       "      <td>1</td>\n",
       "      <td>Toy Story (1995)</td>\n",
       "      <td>[Adventure, Animation, Children, Comedy, Fantasy]</td>\n",
       "      <td>1995</td>\n",
       "      <td>5</td>\n",
       "      <td>4.0</td>\n",
       "    </tr>\n",
       "    <tr>\n",
       "      <th>2</th>\n",
       "      <td>1</td>\n",
       "      <td>Toy Story (1995)</td>\n",
       "      <td>[Adventure, Animation, Children, Comedy, Fantasy]</td>\n",
       "      <td>1995</td>\n",
       "      <td>7</td>\n",
       "      <td>4.5</td>\n",
       "    </tr>\n",
       "    <tr>\n",
       "      <th>3</th>\n",
       "      <td>1</td>\n",
       "      <td>Toy Story (1995)</td>\n",
       "      <td>[Adventure, Animation, Children, Comedy, Fantasy]</td>\n",
       "      <td>1995</td>\n",
       "      <td>15</td>\n",
       "      <td>2.5</td>\n",
       "    </tr>\n",
       "    <tr>\n",
       "      <th>4</th>\n",
       "      <td>1</td>\n",
       "      <td>Toy Story (1995)</td>\n",
       "      <td>[Adventure, Animation, Children, Comedy, Fantasy]</td>\n",
       "      <td>1995</td>\n",
       "      <td>17</td>\n",
       "      <td>4.5</td>\n",
       "    </tr>\n",
       "  </tbody>\n",
       "</table>\n",
       "</div>"
      ],
      "text/plain": [
       "   movieId             title  \\\n",
       "0        1  Toy Story (1995)   \n",
       "1        1  Toy Story (1995)   \n",
       "2        1  Toy Story (1995)   \n",
       "3        1  Toy Story (1995)   \n",
       "4        1  Toy Story (1995)   \n",
       "\n",
       "                                              genres  year  userId  rating  \n",
       "0  [Adventure, Animation, Children, Comedy, Fantasy]  1995       1     4.0  \n",
       "1  [Adventure, Animation, Children, Comedy, Fantasy]  1995       5     4.0  \n",
       "2  [Adventure, Animation, Children, Comedy, Fantasy]  1995       7     4.5  \n",
       "3  [Adventure, Animation, Children, Comedy, Fantasy]  1995      15     2.5  \n",
       "4  [Adventure, Animation, Children, Comedy, Fantasy]  1995      17     4.5  "
      ]
     },
     "execution_count": 42,
     "metadata": {},
     "output_type": "execute_result"
    }
   ],
   "source": [
    "top_movies_df.head()"
   ]
  },
  {
   "cell_type": "code",
   "execution_count": 45,
   "id": "60f7a5bc",
   "metadata": {},
   "outputs": [],
   "source": [
    "# Convert 'year' to integer for temporal analysis\n",
    "top_movies_df['year'] = top_movies_df['year'].astype(int)"
   ]
  },
  {
   "cell_type": "markdown",
   "id": "afdceb33",
   "metadata": {},
   "source": [
    "### EDA analysis"
   ]
  },
  {
   "cell_type": "markdown",
   "id": "70093896",
   "metadata": {},
   "source": [
    "### Distribution of Ratings \n",
    "\n"
   ]
  },
  {
   "cell_type": "code",
   "execution_count": 43,
   "id": "97bef817",
   "metadata": {},
   "outputs": [
    {
     "data": {
      "image/png": "[encoded data removed]",
      "text/plain": [
       "<Figure size 1000x600 with 1 Axes>"
      ]
     },
     "metadata": {},
     "output_type": "display_data"
    }
   ],
   "source": [
    "import seaborn as sns\n",
    "import matplotlib.pyplot as plt\n",
    "\n",
    "# Create a histogram of the ratings in top_movies_df\n",
    "plt.figure(figsize=(10, 6))\n",
    "sns.histplot(data=top_movies_df, x='rating', bins=10, kde=True, color='skyblue')\n",
    "plt.title('Distribution of Ratings for Most Popular Movies')\n",
    "plt.xlabel('Rating')\n",
    "plt.ylabel('Frequency')\n",
    "plt.xticks(range(0, 6))  # Assuming ratings are on a 0-5 scale\n",
    "plt.grid(axis='y', linestyle='--', alpha=0.7)\n",
    "plt.show()\n"
   ]
  },
  {
   "cell_type": "code",
   "execution_count": null,
   "id": "a8a121b6",
   "metadata": {},
   "outputs": [],
   "source": []
  },
  {
   "cell_type": "code",
   "execution_count": null,
   "id": "4d48d944",
   "metadata": {},
   "outputs": [],
   "source": []
  },
  {
   "cell_type": "code",
   "execution_count": 1,
   "id": "ee86c13b",
   "metadata": {},
   "outputs": [],
   "source": [
    "# Split genres into individual genres\n",
    "split_genres = top_movies_df['genres'].str.split('|', expand=True)\n",
    "\n",
    "# Concatenate split genres with the original dataframe\n",
    "top_movies_df_split = pd.concat([top_movies_df, split_genres], axis=1)\n",
    "\n",
    "# Melt the dataframe to have each genre in a separate row\n",
    "top_movies_df_melted = top_movies_df_split.melt(id_vars=top_movies_df.columns, value_vars=[0, 1, 2, 3, 4],\n",
    "                                                var_name='genre_index', value_name='genre')\n",
    "\n",
    "# Drop unnecessary columns and missing values\n",
    "top_movies_df_melted.drop(columns=['genres', 'genre_index'], inplace=True)\n",
    "top_movies_df_melted.dropna(subset=['genre'], inplace=True)\n",
    "\n",
    "# Calculate average rating per genre\n",
    "average_rating_per_genre = top_movies_df_melted.groupby('genre')['rating'].mean().sort_values(ascending=False).nlargest(10)\n",
    "\n",
    "# Plot\n",
    "plt.figure(figsize=(12, 6))\n",
    "average_rating_per_genre.plot(kind='bar', color='skyblue')\n",
    "plt.title('Top Average Rating by Genre')\n",
    "plt.xlabel('Genre')\n",
    "plt.ylabel('Average Rating')\n",
    "plt.xticks(rotation=45, ha='right')\n",
    "plt.show()\n"
   ]
  },
  {
   "cell_type": "code",
   "execution_count": null,
   "id": "4da41241",
   "metadata": {},
   "outputs": [],
   "source": []
  },
  {
   "cell_type": "code",
   "execution_count": null,
   "id": "90c71d59",
   "metadata": {},
   "outputs": [],
   "source": []
  },
  {
   "cell_type": "markdown",
   "id": "f48e3086",
   "metadata": {},
   "source": [
    "### distribution of Genres"
   ]
  },
  {
   "cell_type": "code",
   "execution_count": 2,
   "id": "027817c4",
   "metadata": {},
   "outputs": [],
   "source": [
    "from collections import Counter\n",
    "\n",
    "# Split the genres for each movie and flatten the list\n",
    "all_genres = sum(top_movies_df['genres'].apply(lambda x: x.split('|')).tolist(), [])\n",
    "\n",
    "# Count each genre's occurrence\n",
    "genre_counts = Counter(all_genres)\n",
    "\n",
    "# Convert to a DataFrame for easier plotting\n",
    "genre_df = pd.DataFrame(genre_counts.items(), columns=['Genre', 'Count']).sort_values(by='Count', ascending=False)\n",
    "\n",
    "# Plot\n",
    "plt.figure(figsize=(12, 8))\n",
    "sns.barplot(x='Count', y='Genre', data=genre_df)\n",
    "plt.title('most popular Movie Genres')\n",
    "plt.xlabel('Number of Occurrences')\n",
    "plt.ylabel('Genre')\n",
    "plt.show()\n"
   ]
  },
  {
   "cell_type": "markdown",
   "id": "2ae1c8a9",
   "metadata": {},
   "source": [
    "#### Trends in Movie Ratings Over the Years"
   ]
  },
  {
   "cell_type": "code",
   "execution_count": 74,
   "id": "2e2d4394",
   "metadata": {},
   "outputs": [
    {
     "data": {
      "image/png": "[encoded data removed]",
      "text/plain": [
       "<Figure size 1200x600 with 1 Axes>"
      ]
     },
     "metadata": {},
     "output_type": "display_data"
    }
   ],
   "source": [
    "# Average rating per year\n",
    "average_rating_per_year = top_movies_df.groupby('year')['rating'].mean()\n",
    "\n",
    "# Plot\n",
    "plt.figure(figsize=(12, 6))\n",
    "average_rating_per_year.plot(kind='line')\n",
    "plt.title('Average Movie Rating Over the Years')\n",
    "plt.xlabel('Year')\n",
    "plt.ylabel('Average Rating')\n",
    "plt.show()\n"
   ]
  },
  {
   "cell_type": "code",
   "execution_count": 92,
   "id": "fedec05f",
   "metadata": {
    "scrolled": true
   },
   "outputs": [
    {
     "data": {
      "image/png": "[encoded data removed]",
      "text/plain": [
       "<Figure size 1200x600 with 1 Axes>"
      ]
     },
     "metadata": {},
     "output_type": "display_data"
    }
   ],
   "source": [
    "year_released_counts = top_movies_df['year'].value_counts()\n",
    "\n",
    "# Plot the top counts for the year released\n",
    "plt.figure(figsize=(12, 6))\n",
    "sns.lineplot(data=year_released_counts, marker='o', color='blue')\n",
    "plt.title('Top 10 Counts for Year Released')\n",
    "plt.xlabel('Year Released')\n",
    "plt.ylabel('Count')\n",
    "plt.xticks(rotation=45)\n",
    "plt.grid(True)\n",
    "plt.show()"
   ]
  },
  {
   "cell_type": "code",
   "execution_count": null,
   "id": "69120336",
   "metadata": {},
   "outputs": [],
   "source": []
  },
  {
   "cell_type": "code",
   "execution_count": null,
   "id": "580542a9",
   "metadata": {},
   "outputs": [],
   "source": []
  },
  {
   "cell_type": "markdown",
   "id": "3b65c66e",
   "metadata": {},
   "source": [
    "# Collaborative Filtering\n",
    "\n",
    "`Memory-Based CF:` The approach that relies on finding similarities between users or items to recommend similar items. It typically involves techniques such as Neighbourhood-based CF, where recommendations are made based on the preferences of similar users or items.\n",
    "\n",
    "`Model-Based CF:` : This approach utilizes various data mining and machine learning algorithms to predict users' ratings or preferences for unrated items. One example of model-based CF is Principal Component Analysis (PCA), which helps identify the most significant components or features in the data and use them to make predictions."
   ]
  },
  {
   "cell_type": "markdown",
   "id": "e3bb19f3",
   "metadata": {},
   "source": [
    "### Memory-Based Collaborative Filtering (KNN)"
   ]
  },
  {
   "cell_type": "markdown",
   "id": "aaa2b78f",
   "metadata": {},
   "source": [
    "### Baseline : KNN Basic model "
   ]
  },
  {
   "cell_type": "code",
   "execution_count": 48,
   "id": "d375e00e",
   "metadata": {},
   "outputs": [
    {
     "name": "stdout",
     "output_type": "stream",
     "text": [
      "Requirement already satisfied: scikit-surprise in c:\\users\\envy x360\\anaconda latest\\envs\\testenv\\lib\\site-packages (1.1.1)\n",
      "Requirement already satisfied: joblib>=0.11 in c:\\users\\envy x360\\anaconda latest\\envs\\testenv\\lib\\site-packages (from scikit-surprise) (1.3.2)\n",
      "Requirement already satisfied: numpy>=1.11.2 in c:\\users\\envy x360\\anaconda latest\\envs\\testenv\\lib\\site-packages (from scikit-surprise) (1.21.6)\n",
      "Requirement already satisfied: scipy>=1.0.0 in c:\\users\\envy x360\\anaconda latest\\envs\\testenv\\lib\\site-packages (from scikit-surprise) (1.7.3)\n",
      "Requirement already satisfied: six>=1.10.0 in c:\\users\\envy x360\\anaconda latest\\envs\\testenv\\lib\\site-packages (from scikit-surprise) (1.16.0)\n"
     ]
    }
   ],
   "source": [
    "!pip install scikit-surprise\n"
   ]
  },
  {
   "cell_type": "code",
   "execution_count": 4,
   "id": "b852f521",
   "metadata": {},
   "outputs": [],
   "source": [
    "from surprise import Reader, Dataset\n",
    "from surprise.model_selection import train_test_split\n",
    "from surprise import KNNBasic\n",
    "from surprise import accuracy\n",
    "\n",
    "\n",
    "\n",
    "\n",
    "# Load the dataset\n",
    "reader = Reader(rating_scale=(1, 5))\n",
    "data = Dataset.load_from_df(top_movies_df[['userId', 'movieId', 'rating']], reader)\n",
    "\n",
    "# Split the dataset into training and testing sets\n",
    "trainset, testset = train_test_split(data, test_size=0.2)\n",
    "\n",
    "# Train and evaluate the KNN Basic model as the baseline\n",
    "model_knn_basic = KNNBasic(random_state=1)\n",
    "model_knn_basic.fit(trainset)\n",
    "\n",
    "predictions_knn_basic = model_knn_basic.test(testset)\n",
    "rmse_knn_basic = accuracy.rmse(predictions_knn_basic)\n",
    "mae_knn_basic = accuracy.mae(predictions_knn_basic)\n",
    "\n",
    "print(\"KNN Basic Model Evaluation:\")\n",
    "print(\"RMSE:\", rmse_knn_basic)\n",
    "print(\"MAE:\", mae_knn_basic)"
   ]
  },
  {
   "cell_type": "code",
   "execution_count": null,
   "id": "6f65e300",
   "metadata": {},
   "outputs": [],
   "source": [
    "from surprise.model_selection import GridSearchCV\n",
    "\n",
    "param_grid = {'sim_options': {'name': ['cosine', 'pearson'],\n",
    "                              'user_based': [True, False]}}\n",
    "\n",
    "# Define the model\n",
    "model = KNNBasic()\n",
    "\n",
    "# Perform grid search with cross-validation\n",
    "grid_search = GridSearchCV(model, param_grid, measures=['rmse', 'mae'], cv=5)\n",
    "grid_search.fit(data)\n",
    "\n",
    "# Get the best RMSE score\n",
    "print(\"Best RMSE score:\", grid_search.best_score['rmse'])\n",
    "\n",
    "# Get the best parameters\n",
    "print(\"Best parameters:\", grid_search.best_params['rmse'])"
   ]
  },
  {
   "cell_type": "code",
   "execution_count": null,
   "id": "ca5086b1",
   "metadata": {},
   "outputs": [],
   "source": []
  },
  {
   "cell_type": "markdown",
   "id": "8ec76d3c",
   "metadata": {},
   "source": [
    "### model 2: KNN Baseline"
   ]
  },
  {
   "cell_type": "code",
   "execution_count": null,
   "id": "e03318f8",
   "metadata": {},
   "outputs": [],
   "source": [
    "# Initialize the KNN Baseline model with a random state for reproducibility\n",
    "model_knn_baseline = KNNBaseline(random_state=1)\n",
    "\n",
    "# Train the KNN Baseline model on the training set\n",
    "model_knn_baseline.fit(trainset)\n",
    "\n",
    "# Generate predictions on the test set using the trained model\n",
    "predictions_knn_baseline = model_knn_baseline.test(testset)\n",
    "\n",
    "# Compute RMSE and MAE to evaluate the performance of the KNN Baseline model\n",
    "rmse_knn_baseline = accuracy.rmse(predictions_knn_baseline)\n",
    "mae_knn_baseline = accuracy.mae(predictions_knn_baseline)\n",
    "\n",
    "# Print the evaluation results\n",
    "print(\"KNN Baseline Model Evaluation:\")\n",
    "print(\"RMSE:\", rmse_knn_baseline)\n",
    "print(\"MAE:\", mae_knn_baseline)\n"
   ]
  },
  {
   "cell_type": "code",
   "execution_count": null,
   "id": "8d2a9de6",
   "metadata": {},
   "outputs": [],
   "source": [
    "from surprise.model_selection import cross_validate, GridSearchCV\n",
    "\n",
    "# Step 1: Define the parameter grid for tuning\n",
    "param_grid = {'bsl_options': {'method': ['als', 'sgd'],\n",
    "                              'reg': [0.02, 0.04, 0.06],\n",
    "                              'learning_rate': [0.005, 0.01, 0.015]},\n",
    "              'k': [20, 30, 40],\n",
    "              'sim_options': {'name': ['cosine', 'pearson'],\n",
    "                              'user_based': [True, False]}}\n",
    "\n",
    "# Step 2: Initialize the KNN Baseline model\n",
    "model_knn_baseline = KNNBaseline(random_state=1)\n",
    "\n",
    "# Step 3: Perform cross-validation to evaluate the model's performance\n",
    "cv_results = cross_validate(model_knn_baseline, data, measures=['RMSE', 'MAE'], cv=5, verbose=True)\n",
    "\n",
    "# Step 4: Print the cross-validation results\n",
    "print(\"Cross-validation Results:\")\n",
    "for metric in ['test_rmse', 'test_mae']:\n",
    "    print(f\"{metric}: {cv_results[metric].mean()} (±{cv_results[metric].std()})\")\n",
    "\n",
    "# Step 5: Perform grid search to find the best parameters\n",
    "grid_search = GridSearchCV(model_knn_baseline, param_grid, measures=['rmse'], cv=5, n_jobs=-1)\n",
    "grid_search.fit(data)\n",
    "\n",
    "# Step 6: Print the best RMSE score and corresponding parameters\n",
    "print(\"Best RMSE score:\", grid_search.best_score['rmse'])\n",
    "print(\"Best parameters:\", grid_search.best_params['rmse'])\n",
    "\n",
    "# Step 7: Initialize the KNN Baseline model with the best parameters\n",
    "best_params = grid_search.best_params['rmse']\n",
    "model_knn_baseline_tuned = KNNBaseline(k=best_params['k'],\n",
    "                                       bsl_options=best_params['bsl_options'],\n",
    "                                       sim_options=best_params['sim_options'])\n",
    "\n",
    "# Step 8: Fit the tuned model on the training data\n",
    "model_knn_baseline_tuned.fit(trainset)\n",
    "\n",
    "# Step 9: Generate predictions on the test set using the tuned model\n",
    "predictions_knn_baseline_tuned = model_knn_baseline_tuned.test(testset)\n",
    "\n",
    "# Step 10: Compute RMSE and MAE to evaluate the performance of the tuned model\n",
    "rmse_knn_baseline_tuned = accuracy.rmse(predictions_knn_baseline_tuned)\n",
    "mae_knn_baseline_tuned = accuracy.mae(predictions_knn_baseline_tuned)\n",
    "\n",
    "# Step 11: Print the evaluation results for the tuned model\n",
    "print(\"Tuned KNN Baseline Model Evaluation:\")\n",
    "print(\"RMSE:\", rmse_knn_baseline_tuned)\n",
    "print(\"MAE:\", mae_knn_baseline_tuned)\n"
   ]
  },
  {
   "cell_type": "markdown",
   "id": "985c4a83",
   "metadata": {},
   "source": [
    "### Model-Based Collaborative Filtering (SVD)"
   ]
  },
  {
   "cell_type": "code",
   "execution_count": 3,
   "id": "f65dde0d",
   "metadata": {},
   "outputs": [],
   "source": [
    "from surprise import SVD\n",
    "# Instantiate the model (Singular Value Decomposition)\n",
    "model = SVD(random_state=1)\n",
    "\n",
    "# Fit the model on the training data\n",
    "model.fit(trainset)\n",
    "\n",
    "\n",
    "# Perform cross-validation\n",
    "cv_results = cross_validate(model, data, measures=['RMSE', 'MAE'], cv=5, verbose=True)\n",
    "\n",
    "\n",
    "# Print the cross-validation results\n",
    "print(\"Cross-validation Results:\")\n",
    "for metric in ['test_rmse', 'test_mae']:\n",
    "    print(f\"{metric}: {cv_results[metric].mean()} (±{cv_results[metric].std()})\")\n",
    "\n"
   ]
  },
  {
   "cell_type": "code",
   "execution_count": null,
   "id": "248db604",
   "metadata": {},
   "outputs": [],
   "source": [
    "# Make predictions for the test set\n",
    "predictions = model.test(testset)\n",
    "\n",
    "# Evaluate the model performance (optional)\n",
    "rmse_score=accuracy.rmse(predictions)\n",
    "\n",
    "print(\"RMSE:\", rmse_score)"
   ]
  },
  {
   "cell_type": "markdown",
   "id": "28bc344b",
   "metadata": {},
   "source": [
    "### hyperparameter tuning"
   ]
  },
  {
   "cell_type": "code",
   "execution_count": null,
   "id": "e660e81c",
   "metadata": {},
   "outputs": [],
   "source": [
    "from surprise.model_selection import GridSearchCV\n",
    "\n",
    "\n",
    "# Define the parameter grid\n",
    "param_grid = {'n_factors': [50, 100, 150],\n",
    "              'n_epochs': [20, 30, 40],\n",
    "              'lr_all': [0.005, 0.01, 0.015],\n",
    "              'reg_all': [0.02, 0.04, 0.06]}\n",
    "\n",
    "# Instantiate the SVD model\n",
    "model = SVD(random_state=1)\n",
    "\n",
    "# Instantiate GridSearchCV\n",
    "grid_search = GridSearchCV(SVD, param_grid, measures=['rmse'], cv=5, n_jobs=-1)\n",
    "\n",
    "# Fit GridSearchCV to the data\n",
    "grid_search.fit(data)\n",
    "\n",
    "# Print the best RMSE score and the corresponding parameters\n",
    "print(\"Best RMSE score:\", grid_search.best_score['rmse'])\n",
    "print(\"Best parameters:\", grid_search.best_params['rmse'])\n"
   ]
  },
  {
   "cell_type": "code",
   "execution_count": null,
   "id": "8335430f",
   "metadata": {},
   "outputs": [],
   "source": [
    "# Instantiate the SVD model with best hyperparameters\n",
    "best_params = grid_search.best_params['rmse']\n",
    "model = SVD(n_factors=best_params['n_factors'],\n",
    "            n_epochs=best_params['n_epochs'],\n",
    "            lr_all=best_params['lr_all'],\n",
    "            reg_all=best_params['reg_all'])\n",
    "\n",
    "# Fit the model on the training data\n",
    "model.fit(trainset)\n",
    "\n",
    "# Evaluate model performance\n",
    "predictions = model.test(testset)\n",
    "rmse = accuracy.rmse(predictions)\n",
    "mae = accuracy.mae(predictions)\n",
    "print(f\"RMSE: {rmse}, MAE: {mae}\")\n"
   ]
  },
  {
   "cell_type": "code",
   "execution_count": null,
   "id": "bd0204fb",
   "metadata": {},
   "outputs": [],
   "source": [
    "# Generate recommendations for users\n",
    "# Example: Use the model to predict ratings for unrated items for a specific user\n",
    "user_id = 123\n",
    "user_ratings = [(user_id, movie_id, 0) for movie_id in movie_ids]  # Initialize ratings for unrated movies\n",
    "recommendations = model.test(user_ratings)\n",
    "top_recommendations = sorted(recommendations, key=lambda x: x.est, reverse=True)[:10]  # Get top recommendations"
   ]
  },
  {
   "cell_type": "code",
   "execution_count": null,
   "id": "cb6de38c",
   "metadata": {},
   "outputs": [],
   "source": []
  },
  {
   "cell_type": "markdown",
   "id": "1f65aeb0",
   "metadata": {},
   "source": [
    "### Non-Negative Matrix Factorization (NMF):"
   ]
  },
  {
   "cell_type": "code",
   "execution_count": null,
   "id": "d24c7d66",
   "metadata": {},
   "outputs": [],
   "source": [
    "# Instantiate the NMF model\n",
    "model_nmf = NMF(random_state=1)\n",
    "\n",
    "# Fit the model on the training data\n",
    "model_nmf.fit(trainset)\n",
    "\n",
    "# Make predictions on the test set\n",
    "predictions_nmf = model_nmf.test(testset)\n",
    "\n",
    "# Evaluate the model performance\n",
    "rmse_nmf = accuracy.rmse(predictions_nmf)\n",
    "mae_nmf = accuracy.mae(predictions_nmf)\n",
    "\n",
    "print(\"NMF Model Evaluation:\")\n",
    "print(\"RMSE:\", rmse_nmf)\n",
    "print(\"MAE:\", mae_nmf)\n"
   ]
  },
  {
   "cell_type": "code",
   "execution_count": null,
   "id": "aeb68185",
   "metadata": {},
   "outputs": [],
   "source": []
  },
  {
   "cell_type": "markdown",
   "id": "5a6a6f9b",
   "metadata": {},
   "source": [
    "### Cold Start Problem:"
   ]
  },
  {
   "cell_type": "markdown",
   "id": "a7175dcf",
   "metadata": {},
   "source": [
    "For new users, a possible approach is to recommend popular or highly-rated movies from genres that are broadly appealing or trending.\n",
    "\n",
    "For new items, leveraging item metadata (like genres) to find similar items based on content similarity can be effective.\n",
    "\n",
    "Implementing a Basic Solution for New Users:"
   ]
  },
  {
   "cell_type": "code",
   "execution_count": null,
   "id": "55ed1018",
   "metadata": {},
   "outputs": [],
   "source": [
    "def recommend_for_new_user(df, num_recommendations=5):\n",
    "    \"\"\"\n",
    "    Recommend top N highly-rated movies for new users based on genres.\n",
    "    \"\"\"\n",
    "    popular_movies = df.groupby(['title', 'genres'])['rating'].mean().reset_index()\n",
    "    popular_movies = popular_movies.sort_values(by='rating', ascending=False)\n",
    "    \n",
    "    return popular_movies.head(num_recommendations)\n",
    "\n",
    "# Example usage:\n",
    "new_user_recommendations = recommend_for_new_user(merged_df)\n",
    "print(\"Recommendations for a new user:\\n\", new_user_recommendations)\n"
   ]
  },
  {
   "cell_type": "code",
   "execution_count": null,
   "id": "ee3fada8",
   "metadata": {},
   "outputs": [],
   "source": [
    "from sklearn.feature_extraction.text import TfidfVectorizer\n",
    "from sklearn.metrics.pairwise import linear_kernel\n",
    "\n",
    "# Preparing genres for TF-IDF vectorization\n",
    "merged_df['cleaned_genres'] = merged_df['genres'].apply(lambda x: x.replace('|', ' '))\n",
    "\n",
    "tfidf = TfidfVectorizer(stop_words='english')\n",
    "tfidf_matrix = tfidf.fit_transform(merged_df['cleaned_genres'])\n",
    "\n",
    "# Compute the cosine similarity matrix\n",
    "cosine_sim = linear_kernel(tfidf_matrix, tfidf_matrix)\n",
    "\n",
    "# Function to get recommendations for a new item based on genres\n",
    "def recommend_similar_items(new_item_id, title, cosine_sim=cosine_sim, num_recommendations=5):\n",
    "    # Assuming 'title' is the title of the new item and its ID is 'new_item_id'\n",
    "    # Adding the new item to the dataframe temporarily\n",
    "    temp_df = merged_df.append({'movieId': new_item_id, 'title': title, 'cleaned_genres': ' '.join(title.split()[:-1])}, ignore_index=True)\n",
    "    \n",
    "    # Re-compute TF-IDF matrix and cosine similarity with the new item included\n",
    "    tfidf_matrix = tfidf.fit_transform(temp_df['cleaned_genres'])\n",
    "    cosine_sim = linear_kernel(tfidf_matrix, tfidf_matrix)\n",
    "    \n",
    "    # Find similar items\n",
    "    sim_scores = list(enumerate(cosine_sim[-1]))  # Assuming the new item is the last entry\n",
    "    sim_scores = sorted(sim_scores, key=lambda x: x[1], reverse=True)\n",
    "    sim_scores = sim_scores[1:num_recommendations+1]  # Exclude the item itself\n",
    "    item_indices = [i[0] for i in sim_scores]\n",
    "    \n",
    "    # Return the titles of similar items\n",
    "    return temp_df['title'].iloc[item_indices]\n",
    "\n",
    "# Example usage\n",
    "# Assuming 'new_movie_id' and 'new_movie_title' are known\n",
    "recommendations = recommend_similar_items(new_movie_id, new_movie_title)\n",
    "print(\"Recommendations for a new item:\\n\", recommendations)\n"
   ]
  }
 ],
 "metadata": {
  "kernelspec": {
   "display_name": "Python 3 (ipykernel)",
   "language": "python",
   "name": "python3"
  },
  "language_info": {
   "codemirror_mode": {
    "name": "ipython",
    "version": 3
   },
   "file_extension": ".py",
   "mimetype": "text/x-python",
   "name": "python",
   "nbconvert_exporter": "python",
   "pygments_lexer": "ipython3",
   "version": "3.11.4"
  }
 },
 "nbformat": 4,
 "nbformat_minor": 5
}
